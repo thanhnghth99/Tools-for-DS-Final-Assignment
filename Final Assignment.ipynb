{
 "cells": [
  {
   "cell_type": "markdown",
   "metadata": {},
   "source": [
    "# Title: MY JUPYTER NOTEBOOK FINAL ASSIGNMENT "
   ]
  },
  {
   "cell_type": "markdown",
   "metadata": {},
   "source": [
    "## Introduction: I'm Thanh Nguyen. I'm studying to become a data scientist in the future."
   ]
  },
  {
   "cell_type": "markdown",
   "metadata": {},
   "source": [
    "### List of data science languages\n",
    "* Python\n",
    "* R\n",
    "* SQL\n",
    "* Java\n",
    "* Julia\n",
    "* Scala\n",
    "* C/C++\n",
    "* JavaScript\n",
    "* Swift\n",
    "* Go\n",
    "* MATLAB\n",
    "* SAS"
   ]
  },
  {
   "cell_type": "markdown",
   "metadata": {},
   "source": [
    "### List of data science libraries\n",
    "* TensorFlow\n",
    "* NumPy\n",
    "* SciPy \n",
    "* Pandas\n",
    "* Matplotlib \n",
    "* Keras\n",
    "* SciKit-Learn\n",
    "* PyTorch\n",
    "* Scrapy\n",
    "* PyBrain"
   ]
  },
  {
   "cell_type": "markdown",
   "metadata": {},
   "source": [
    "### Data Science Tools table\n",
    "| Data science tools |\n",
    "| :----: |\n",
    "| Excel |\n",
    "| Tableau |\n",
    "| BigML |\n",
    "| TensorFlow |\n",
    "| Hadoop |\n",
    "| Power BI |\n",
    "| Spark |\n",
    "| Scikit Learn |\n",
    "| Matplotlib |"
   ]
  },
  {
   "cell_type": "markdown",
   "metadata": {},
   "source": [
    "### Arithmetic expression examples\n",
    "* 40 + 12 = 52\n",
    "* 40 - 12 = 28\n",
    "* 40 * 12 = 480\n",
    "* 40 / 12 = 3.333333333333\n",
    "* 40 ** 2 = 1600"
   ]
  },
  {
   "cell_type": "code",
   "execution_count": 2,
   "metadata": {},
   "outputs": [
    {
     "name": "stdout",
     "output_type": "stream",
     "text": [
      "17\n"
     ]
    }
   ],
   "source": [
    "ans = 5 * 2 + 7\n",
    "print(ans)"
   ]
  },
  {
   "cell_type": "code",
   "execution_count": 6,
   "metadata": {},
   "outputs": [
    {
     "name": "stdout",
     "output_type": "stream",
     "text": [
      "5 hours and 20 minutes\n"
     ]
    }
   ],
   "source": [
    "min_input = 320\n",
    "hours = min_input // 60\n",
    "minutes = min_input % 60\n",
    "print(hours, 'hours and', minutes, 'minutes')"
   ]
  },
  {
   "cell_type": "markdown",
   "metadata": {},
   "source": [
    "### Objectives:\n",
    "* Create a Jupyter Notebook\n",
    "* Insert code and markdown cells\n",
    "* Share your notebook through GitHub"
   ]
  },
  {
   "cell_type": "markdown",
   "metadata": {},
   "source": [
    "### Author's name: Thanh Nguyen"
   ]
  }
 ],
 "metadata": {
  "kernelspec": {
   "display_name": "base",
   "language": "python",
   "name": "python3"
  },
  "language_info": {
   "codemirror_mode": {
    "name": "ipython",
    "version": 3
   },
   "file_extension": ".py",
   "mimetype": "text/x-python",
   "name": "python",
   "nbconvert_exporter": "python",
   "pygments_lexer": "ipython3",
   "version": "3.10.9"
  },
  "orig_nbformat": 4
 },
 "nbformat": 4,
 "nbformat_minor": 2
}
